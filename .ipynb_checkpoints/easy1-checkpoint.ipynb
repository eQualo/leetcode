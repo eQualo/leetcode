{
 "cells": [
  {
   "cell_type": "markdown",
   "metadata": {},
   "source": [
    "**1. Two sum.**\n",
    "\n",
    "Given an array of integers, return indices of the two numbers such that they add up to a specific target.\n",
    "\n",
    "You may assume that each input would have exactly one solution, and you may not use the same element twice.\n",
    "\n",
    "Example:\n",
    "\n",
    "Given nums = [2, 7, 11, 15], target = 9,\n",
    "\n",
    "Because nums[0] + nums[1] = 2 + 7 = 9,\n",
    "return [0, 1]."
   ]
  },
  {
   "cell_type": "code",
   "execution_count": 26,
   "metadata": {},
   "outputs": [],
   "source": [
    "from typing import List\n",
    "\n",
    "\"\"\"\n",
    "class Solution:\n",
    "    def twoSum(self, nums: List[int], target: int) -> List[int]:\n",
    "        for i, val1 in enumerate(nums):\n",
    "            for j, val2 in enumerate(nums[i + 1:]):\n",
    "                if val1 + val2 == target:\n",
    "                    return [i, j + i + 1]\n",
    "\"\"\"\n",
    "class Solution:\n",
    "    def twoSum(self, nums: List[int], target: int) -> List[int]:\n",
    "        diff = {}\n",
    "        for i, val in enumerate(nums):\n",
    "            if target - val not in diff:\n",
    "                diff[val] = i\n",
    "            else:\n",
    "                return [diff[target-val], i]\n",
    "                "
   ]
  },
  {
   "cell_type": "code",
   "execution_count": 27,
   "metadata": {},
   "outputs": [
    {
     "data": {
      "text/plain": [
       "[1, 3]"
      ]
     },
     "execution_count": 27,
     "metadata": {},
     "output_type": "execute_result"
    }
   ],
   "source": [
    "a = Solution()\n",
    "a.twoSum([2, 7, 11, 15], 22)"
   ]
  },
  {
   "cell_type": "markdown",
   "metadata": {},
   "source": [
    "**7. Reverse integer**\n",
    "\n",
    "Given a 32-bit signed integer, reverse digits of an integer.\n",
    "\n",
    "Example 1:\n",
    "\n",
    "Input: 123\n",
    "Output: 321\n",
    "Example 2:\n",
    "\n",
    "Input: -123\n",
    "Output: -321"
   ]
  },
  {
   "cell_type": "code",
   "execution_count": 61,
   "metadata": {},
   "outputs": [],
   "source": [
    "class Solution:\n",
    "    def reverse(self, x: int) -> int:\n",
    "        str_x = str(x)\n",
    "        if x < 0:\n",
    "            new_x = int(str_x[:0:-1]) * (-1)\n",
    "        else:\n",
    "            new_x = int(str_x[::-1])\n",
    "        if abs(new_x) >> 31 != 0:\n",
    "            return 0\n",
    "        else:\n",
    "            return new_x"
   ]
  },
  {
   "cell_type": "code",
   "execution_count": 63,
   "metadata": {},
   "outputs": [
    {
     "data": {
      "text/plain": [
       "0"
      ]
     },
     "execution_count": 63,
     "metadata": {},
     "output_type": "execute_result"
    }
   ],
   "source": [
    "a = Solution()\n",
    "a.reverse(-123)"
   ]
  },
  {
   "cell_type": "markdown",
   "metadata": {},
   "source": [
    "**9. Palindrome number**\n",
    "\n",
    "Determine whether an integer is a palindrome. An integer is a palindrome when it reads the same backward as forward.\n",
    "\n",
    "Example 1:\n",
    "\n",
    "Input: 121\n",
    "Output: true"
   ]
  },
  {
   "cell_type": "code",
   "execution_count": 73,
   "metadata": {},
   "outputs": [],
   "source": [
    "class Solution:\n",
    "    def isPalindrome(self, x: int) -> bool:\n",
    "        return str(x) == str(x)[::-1] if x >= 0 else False"
   ]
  },
  {
   "cell_type": "code",
   "execution_count": 76,
   "metadata": {},
   "outputs": [
    {
     "data": {
      "text/plain": [
       "False"
      ]
     },
     "execution_count": 76,
     "metadata": {},
     "output_type": "execute_result"
    }
   ],
   "source": [
    "a = Solution()\n",
    "a.isPalindrome(122321)"
   ]
  },
  {
   "cell_type": "markdown",
   "metadata": {},
   "source": [
    "**13. Roman to integer**\n",
    "\n",
    "\n",
    "Roman numerals are represented by seven different symbols: I, V, X, L, C, D and M.\n",
    "\n",
    "Symbol   |    Value\n",
    "________________________\n",
    "I      |       1\n",
    "________________________\n",
    "V      |      5\n",
    "\n",
    "X      |       10\n",
    "\n",
    "L      |      50\n",
    "\n",
    "C      |     100\n",
    "\n",
    "D      |       500\n",
    "\n",
    "M      |       1000"
   ]
  },
  {
   "cell_type": "code",
   "execution_count": 123,
   "metadata": {},
   "outputs": [],
   "source": [
    "class Solution:\n",
    "    def romanToInt(self, s: str) -> int:\n",
    "        conv = {'I': 1, 'V': 5, 'X': 10, 'L': 50, 'C': 100, 'D': 500, 'M': 1000}\n",
    "        num = 0\n",
    "        tmp = 0\n",
    "        for i, c in enumerate(s[:-1]):\n",
    "            print(f'1. c={c}, tmp={tmp}, num={num}')\n",
    "            tmp += conv[c]\n",
    "            if c == s[i+1]:\n",
    "                continue\n",
    "            else:\n",
    "                if conv[c] > conv[s[i+1]]:\n",
    "                    num += tmp\n",
    "                    print(f'2. c={c}, tmp={tmp}, num={num}')\n",
    "                    tmp = 0\n",
    "                else:\n",
    "                    tmp *= -1\n",
    "                    print(f'2. c={c}, tmp={tmp}, num={num}')\n",
    "        num += (tmp +conv[s[-1]])\n",
    "        return num              "
   ]
  },
  {
   "cell_type": "code",
   "execution_count": 126,
   "metadata": {},
   "outputs": [
    {
     "name": "stdout",
     "output_type": "stream",
     "text": [
      "1. c=V, tmp=0, num=0\n",
      "2. c=V, tmp=5, num=5\n"
     ]
    },
    {
     "data": {
      "text/plain": [
       "6"
      ]
     },
     "execution_count": 126,
     "metadata": {},
     "output_type": "execute_result"
    }
   ],
   "source": [
    "a = Solution()\n",
    "a.romanToInt('VI')"
   ]
  },
  {
   "cell_type": "markdown",
   "metadata": {},
   "source": [
    "**14. Longest common prefix**\n",
    "\n",
    "\n",
    "Write a function to find the longest common prefix string amongst an array of strings.\n",
    "\n",
    "If there is no common prefix, return an empty string \"\".\n",
    "\n",
    "Example 1:\n",
    "\n",
    "Input: [\"flower\",\"flow\",\"flight\"]\n",
    "Output: \"fl\"\n",
    "Example 2:\n",
    "\n",
    "Input: [\"dog\",\"racecar\",\"car\"]\n",
    "Output: \"\"\n",
    "Explanation: There is no common prefix among the input strings.\n"
   ]
  },
  {
   "cell_type": "code",
   "execution_count": 152,
   "metadata": {},
   "outputs": [],
   "source": [
    "class Solution:\n",
    "    def longestCommonPrefix(self, strs: List[str]) -> str:\n",
    "        len_ = 0\n",
    "        for i in zip(*strs):\n",
    "            if len(set(i)) == 1:\n",
    "                len_ += 1\n",
    "            else: \n",
    "                break\n",
    "        return strs[0][:len_] if len_ > 0 else ''\n",
    "                \n",
    "\n",
    "        "
   ]
  },
  {
   "cell_type": "code",
   "execution_count": 154,
   "metadata": {},
   "outputs": [
    {
     "data": {
      "text/plain": [
       "'qw'"
      ]
     },
     "execution_count": 154,
     "metadata": {},
     "output_type": "execute_result"
    }
   ],
   "source": [
    "a = Solution()\n",
    "a.longestCommonPrefix(['qwe', 'qwasd', 'qwzxc', 'qwc'])"
   ]
  },
  {
   "cell_type": "markdown",
   "metadata": {},
   "source": [
    "**20. Valid parentheses**\n",
    "\n",
    "Given a string containing just the characters '(', ')', '{', '}', '[' and ']', determine if the input string is valid.\n",
    "\n",
    "An input string is valid if:\n",
    "\n",
    "Open brackets must be closed by the same type of brackets.\n",
    "Open brackets must be closed in the correct order.\n",
    "Note that an empty string is also considered valid.\n",
    "\n",
    "Example 1:\n",
    "\n",
    "Input: \"()\"\n",
    "Output: true\n",
    "Example 2:\n",
    "\n",
    "Input: \"()[]{}\"\n",
    "Output: true"
   ]
  },
  {
   "cell_type": "code",
   "execution_count": 25,
   "metadata": {},
   "outputs": [],
   "source": [
    "class Solution:\n",
    "    def isValid(self, s: str) -> bool:\n",
    "        if len(s) == 0:\n",
    "            return True\n",
    "        opposite = {'{':'}', '(':')', '[':']', '}':'{', ')':'(', ']':'['}\n",
    "        direct = set(('[', '(', '{'))\n",
    "        stack = []\n",
    "        for c in s:\n",
    "            if c in direct:\n",
    "                stack.append(c)\n",
    "            elif len(stack) > 0 and stack[-1] == opposite[c]:\n",
    "                del stack[-1]\n",
    "            else:\n",
    "                return False\n",
    "        return False if len(stack) else True\n",
    "            \n",
    "        \n",
    "            "
   ]
  },
  {
   "cell_type": "code",
   "execution_count": 28,
   "metadata": {},
   "outputs": [
    {
     "data": {
      "text/plain": [
       "False"
      ]
     },
     "execution_count": 28,
     "metadata": {},
     "output_type": "execute_result"
    }
   ],
   "source": [
    "a = Solution()\n",
    "a.isValid(']')"
   ]
  },
  {
   "cell_type": "markdown",
   "metadata": {},
   "source": [
    "**21. Merge two lists**\n",
    "\n",
    "\n",
    "Merge two sorted linked lists and return it as a new list. The new list should be made by splicing together the nodes of the first two lists.\n",
    "\n",
    "Example:\n",
    "\n",
    "Input: 1->2->4, 1->3->4\n",
    "Output: 1->1->2->3->4->4"
   ]
  },
  {
   "cell_type": "code",
   "execution_count": 29,
   "metadata": {},
   "outputs": [],
   "source": [
    "# Definition for singly-linked list.\n",
    "class ListNode:\n",
    "    def __init__(self, x):\n",
    "        self.val = x\n",
    "        self.next = None\n",
    "\n",
    "class Solution:\n",
    "    def mergeTwoLists(self, l1: ListNode, l2: ListNode) -> ListNode:\n",
    "        merged_list = l1 if (l1 and not l2) else None\n",
    "        merged_list = l2 if (l2 and not l1) else None\n",
    "        if not merged_list:\n",
    "            return None\n",
    "        merged_list = ListNode(l1.val)\n",
    "        merged_cursor = merged_list\n",
    "        merged_cursor.next = ListNode(l2.val)\n",
    "        merged_cursor = merged_cursor.next\n",
    "        cursor1 = l1.next\n",
    "        cursor2 = l2.next\n",
    "        while cursor1:\n",
    "            merged_cursor.next = ListNode(cursor1.val)\n",
    "            merged_cursor = merged_cursor.next\n",
    "            merged_cursor.next = ListNode(cursor2.val)\n",
    "            merged_cursor = merged_cursor.next\n",
    "            cursor1 = cursor1.next\n",
    "            cursor2 = cursor2.next\n",
    "        return merged_list\n",
    "            "
   ]
  },
  {
   "cell_type": "code",
   "execution_count": null,
   "metadata": {},
   "outputs": [],
   "source": []
  },
  {
   "cell_type": "code",
   "execution_count": null,
   "metadata": {},
   "outputs": [],
   "source": []
  },
  {
   "cell_type": "code",
   "execution_count": null,
   "metadata": {},
   "outputs": [],
   "source": []
  },
  {
   "cell_type": "code",
   "execution_count": null,
   "metadata": {},
   "outputs": [],
   "source": []
  },
  {
   "cell_type": "code",
   "execution_count": null,
   "metadata": {},
   "outputs": [],
   "source": []
  },
  {
   "cell_type": "code",
   "execution_count": null,
   "metadata": {},
   "outputs": [],
   "source": []
  },
  {
   "cell_type": "code",
   "execution_count": null,
   "metadata": {},
   "outputs": [],
   "source": []
  },
  {
   "cell_type": "code",
   "execution_count": null,
   "metadata": {},
   "outputs": [],
   "source": []
  }
 ],
 "metadata": {
  "kernelspec": {
   "display_name": "Python 3",
   "language": "python",
   "name": "python3"
  },
  "language_info": {
   "codemirror_mode": {
    "name": "ipython",
    "version": 3
   },
   "file_extension": ".py",
   "mimetype": "text/x-python",
   "name": "python",
   "nbconvert_exporter": "python",
   "pygments_lexer": "ipython3",
   "version": "3.7.5"
  }
 },
 "nbformat": 4,
 "nbformat_minor": 2
}
