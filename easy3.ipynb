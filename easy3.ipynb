{
 "cells": [
  {
   "cell_type": "markdown",
   "metadata": {},
   "source": [
    "**88. Merge sorted array**\n",
    "\n",
    "Given two sorted integer arrays nums1 and nums2, merge nums2 into nums1 as one sorted array.\n",
    "\n",
    "Note:\n",
    "\n",
    "The number of elements initialized in nums1 and nums2 are m and n respectively.\n",
    "You may assume that nums1 has enough space (size that is greater or equal to m + n) to hold additional elements from nums2.\n",
    "Example:\n",
    "\n",
    "Input:\n",
    "nums1 = [1,2,3,0,0,0], m = 3\n",
    "nums2 = [2,5,6],       n = 3\n",
    "\n",
    "Output: [1,2,2,3,5,6]"
   ]
  },
  {
   "cell_type": "code",
   "execution_count": 205,
   "metadata": {},
   "outputs": [],
   "source": [
    "from typing import List\n",
    "class Solution:\n",
    "    def merge(self, nums1: List[int], m: int, nums2: List[int], n: int) -> None:\n",
    "        \"\"\"\n",
    "        Do not return anything, modify nums1 in-place instead.\n",
    "        \"\"\"\n",
    "        if not n:\n",
    "            return\n",
    "        if not m:\n",
    "            nums1[:] = nums2[:]\n",
    "            return\n",
    "        cur1 = cur2 = 0\n",
    "        nums1_copy = nums1[:m]\n",
    "        while cur1 + cur2 < m + n:\n",
    "            if nums1_copy[cur1] <= nums2[cur2]:\n",
    "                nums1[cur1 + cur2] = nums1_copy[cur1]\n",
    "                cur1 += 1\n",
    "                if cur1 == m:\n",
    "                    nums1[cur1 + cur2:] = nums2[cur2:]\n",
    "                    break  \n",
    "            else:\n",
    "                nums1[cur1 + cur2] = nums2[cur2]\n",
    "                cur2 += 1\n",
    "                if cur2 == n:\n",
    "                    nums1[cur1 + cur2:] = nums1_copy[cur1:]\n",
    "                    break\n",
    "                    \n",
    "    def merge1(self, nums1: List[int], m: int, nums2: List[int], n: int) -> None:\n",
    "        while m > 0 and n > 0:\n",
    "            if nums1[m - 1] > nums2[n - 1]:\n",
    "                nums1[m + n - 1] = nums1[m - 1]\n",
    "                m -= 1\n",
    "            else:\n",
    "                nums1[m + n - 1] = nums2[n - 1]\n",
    "                n -= 1\n",
    "        nums1[:n] = nums2[:n]\n",
    "        \n",
    "        "
   ]
  },
  {
   "cell_type": "code",
   "execution_count": 201,
   "metadata": {},
   "outputs": [
    {
     "data": {
      "text/plain": [
       "[7, 8, 9, 4]"
      ]
     },
     "execution_count": 201,
     "metadata": {},
     "output_type": "execute_result"
    }
   ],
   "source": [
    "a = [1, 2, 3, 4]\n",
    "b = [7, 8, 9]\n",
    "a[:-1] = b\n",
    "a"
   ]
  },
  {
   "cell_type": "code",
   "execution_count": 202,
   "metadata": {},
   "outputs": [
    {
     "data": {
      "text/plain": [
       "(1, 3, 5)"
      ]
     },
     "execution_count": 202,
     "metadata": {},
     "output_type": "execute_result"
    }
   ],
   "source": [
    "1, 2, 4, 6, 0, 0, 0\n",
    "1, 3, 5"
   ]
  },
  {
   "cell_type": "code",
   "execution_count": 203,
   "metadata": {},
   "outputs": [
    {
     "name": "stdout",
     "output_type": "stream",
     "text": [
      "[1, 2, 2, 3, 5, 6]\n"
     ]
    }
   ],
   "source": [
    "Solution().merge1([1,2,3,0,0,0],\n",
    "3,\n",
    "[2,5,6],\n",
    "3)"
   ]
  },
  {
   "cell_type": "code",
   "execution_count": 206,
   "metadata": {},
   "outputs": [
    {
     "name": "stdout",
     "output_type": "stream",
     "text": [
      "[1]\n"
     ]
    },
    {
     "data": {
      "text/plain": [
       "[1]"
      ]
     },
     "execution_count": 206,
     "metadata": {},
     "output_type": "execute_result"
    }
   ],
   "source": [
    "a = [0]\n",
    "Solution().merge1(a, 0, [1], 1)\n",
    "a"
   ]
  },
  {
   "cell_type": "markdown",
   "metadata": {},
   "source": [
    "**100. Same tree**\n",
    "\n",
    "Given two binary trees, write a function to check if they are the same or not.\n",
    "\n",
    "Two binary trees are considered the same if they are structurally identical and the nodes have the same value.\n",
    "\n",
    "Example 1:\n",
    "\n",
    "Input:     1         1\n",
    "          / \\       / \\\n",
    "         2   3     2   3\n",
    "\n",
    "        [1,2,3],   [1,2,3]\n",
    "\n",
    "Output: true\n",
    "Example 2:\n",
    "\n",
    "Input:     1         1\n",
    "          /           \\\n",
    "         2             2\n",
    "\n",
    "        [1,2],     [1,null,2]\n",
    "\n",
    "Output: false\n",
    "Example 3:\n",
    "\n",
    "Input:     1         1\n",
    "          / \\       / \\\n",
    "         2   1     1   2\n",
    "\n",
    "        [1,2,1],   [1,1,2]\n",
    "\n",
    "Output: false"
   ]
  },
  {
   "cell_type": "code",
   "execution_count": 209,
   "metadata": {},
   "outputs": [],
   "source": [
    "# Definition for a binary tree node.\n",
    "class TreeNode:\n",
    "    def __init__(self, x):\n",
    "        self.val = x\n",
    "        self.left = None\n",
    "        self.right = None\n",
    "        "
   ]
  },
  {
   "cell_type": "code",
   "execution_count": 212,
   "metadata": {},
   "outputs": [],
   "source": [
    "class Solution:\n",
    "    def isSameTree(self, p: TreeNode, q: TreeNode) -> bool:\n",
    "        if (p and not q) or (q and not p):\n",
    "            return False\n",
    "        if not p and not q:\n",
    "            return True\n",
    "        if p.val != q.val:\n",
    "            return False\n",
    "        return self.isSameTree(p.left, q.left) and self.isSameTree(p.right, q.right)"
   ]
  },
  {
   "cell_type": "markdown",
   "metadata": {},
   "source": [
    "**101. Symmetric tree**\n",
    "\n",
    "Given a binary tree, check whether it is a mirror of itself (ie, symmetric around its center).\n",
    "\n",
    "For example, this binary tree [1,2,2,3,4,4,3] is symmetric:\n",
    "\n",
    "    1\n",
    "   / \\\n",
    "  2   2\n",
    " / \\ / \\\n",
    "3  4 4  3\n",
    " \n",
    "\n",
    "But the following [1,2,2,null,3,null,3] is not:\n",
    "\n",
    "    1\n",
    "   / \\\n",
    "  2   2\n",
    "   \\   \\\n",
    "   3    3\n",
    " \n",
    "\n",
    "Note:\n",
    "Bonus points if you could solve it both recursively and iteratively."
   ]
  },
  {
   "cell_type": "code",
   "execution_count": 237,
   "metadata": {},
   "outputs": [],
   "source": [
    "# Definition for a binary tree node.\n",
    "class TreeNode:\n",
    "    def __init__(self, x):\n",
    "        self.val = x\n",
    "        self.left = None\n",
    "        self.right = None\n",
    "    \n",
    "    def __str__(self):\n",
    "        return f'node(val = {self.val}, r = {self.left}, l = {self.right})'\n",
    "    \n",
    "    def __repr__(self):\n",
    "        return f'node(val = {self.val}, r = {self.left}, l = {self.right})'"
   ]
  },
  {
   "cell_type": "code",
   "execution_count": 215,
   "metadata": {},
   "outputs": [],
   "source": [
    "class Solution:\n",
    "    def isMirror(self, p: TreeNode, q: TreeNode) -> bool:\n",
    "        if p and q:\n",
    "            return p.val == q.val and self.isMirror(p.left, q.right) and self.isMirror(p.right, q.left)\n",
    "        return p is q\n",
    "    def isSymmetric(self, root: TreeNode) -> bool:\n",
    "        return self.isMirror(root.left, root.right) if root else True\n",
    "        "
   ]
  },
  {
   "cell_type": "code",
   "execution_count": 251,
   "metadata": {},
   "outputs": [],
   "source": [
    "from collections import deque\n",
    "class Solution:\n",
    "    def check(self, p: TreeNode, q: TreeNode):\n",
    "        return p.val == q.val if p and q else p is q\n",
    "    \n",
    "    def isSymmetric(self, root: TreeNode) -> bool:\n",
    "        if not root:\n",
    "            return True\n",
    "        deq: deque = deque([(root.left, root.right)])\n",
    "        while deq:\n",
    "            node = deq.popleft()\n",
    "            if not self.check(node[0], node[1]):\n",
    "                return False\n",
    "            if node[0]:\n",
    "                deq.append((node[0].left, node[1].right))\n",
    "                deq.append((node[0].right, node[1].left))\n",
    "        return True\n",
    "            \n",
    "        "
   ]
  },
  {
   "cell_type": "code",
   "execution_count": 249,
   "metadata": {},
   "outputs": [],
   "source": [
    "tree = TreeNode(5)\n",
    "tree.right = TreeNode(5)\n",
    "tree.left = TreeNode(5)\n"
   ]
  },
  {
   "cell_type": "code",
   "execution_count": 252,
   "metadata": {},
   "outputs": [
    {
     "data": {
      "text/plain": [
       "True"
      ]
     },
     "execution_count": 252,
     "metadata": {},
     "output_type": "execute_result"
    }
   ],
   "source": [
    "Solution().isSymmetric(tree)"
   ]
  },
  {
   "cell_type": "markdown",
   "metadata": {},
   "source": [
    "**104. Maximum depth of binary tree**\n",
    "\n",
    "Given a binary tree, find its maximum depth.\n",
    "\n",
    "The maximum depth is the number of nodes along the longest path from the root node down to the farthest leaf node.\n",
    "\n",
    "Note: A leaf is a node with no children.\n",
    "\n",
    "Example:\n",
    "\n",
    "Given binary tree [3,9,20,null,null,15,7],\n",
    "\n",
    "    3\n",
    "   / \\\n",
    "  9  20\n",
    "    /  \\\n",
    "   15   7\n",
    "return its depth = 3."
   ]
  },
  {
   "cell_type": "code",
   "execution_count": 254,
   "metadata": {},
   "outputs": [],
   "source": [
    "class Solution:\n",
    "    def maxDepth(self, root: TreeNode) -> int:\n",
    "        return max(self.maxDepth(root.left) + 1, self.maxDepth(root.right) + 1) if root else 0"
   ]
  },
  {
   "cell_type": "code",
   "execution_count": 256,
   "metadata": {},
   "outputs": [],
   "source": [
    "from collections import deque\n",
    "class Solution:\n",
    "    def maxDepth(self, root: TreeNode) -> int:\n",
    "        deq = deque((root, 0))\n",
    "        depth = 0\n",
    "        while deq:\n",
    "            node, len_ = deq.popleft()\n",
    "            if node:\n",
    "                len_ += 1\n",
    "                depth = max(depth, len_)\n",
    "                deq.append((node.left, len_))\n",
    "                deq.append((npde.right, len_))\n",
    "        return depth\n",
    "            "
   ]
  },
  {
   "cell_type": "code",
   "execution_count": null,
   "metadata": {},
   "outputs": [],
   "source": []
  },
  {
   "cell_type": "code",
   "execution_count": 21,
   "metadata": {},
   "outputs": [],
   "source": [
    "count1 = 0\n",
    "dict_ = {}\n",
    "def fibs1(n):\n",
    "    global count1\n",
    "    count1 += 1\n",
    "    if n == 1 or n == 2:\n",
    "        return 1\n",
    "    return fibs1(n - 1) + fibs1(n - 2)\n",
    "\n",
    "\n",
    "count2 = 0\n",
    "def fibs2(n):\n",
    "    global count2\n",
    "    global dict_\n",
    "    count2 += 1\n",
    "    if n == 1 or n == 2:\n",
    "        return 1\n",
    "    ans = dict_[n] if n in dict_ else fibs2(n - 1) + fibs2(n - 2)\n",
    "    dict_[n] = ans\n",
    "    return ans\n",
    "\n",
    "def fibs3(n):\n",
    "    nums = [1, 1]\n",
    "    for i in range(n - 2):\n",
    "        nums[1] += nums[0]\n",
    "        nums[0] = nums[1] - nums[0]\n",
    "    return nums[1]\n"
   ]
  },
  {
   "cell_type": "code",
   "execution_count": 24,
   "metadata": {},
   "outputs": [
    {
     "ename": "SyntaxError",
     "evalue": "invalid syntax (<ipython-input-24-e14f202f0e39>, line 2)",
     "output_type": "error",
     "traceback": [
      "\u001b[1;36m  File \u001b[1;32m\"<ipython-input-24-e14f202f0e39>\"\u001b[1;36m, line \u001b[1;32m2\u001b[0m\n\u001b[1;33m    print(%%time fibs1(i), count1, '\\t\\t', fibs2(i), count2, '\\t\\t\\t', fibs3(i))\u001b[0m\n\u001b[1;37m          ^\u001b[0m\n\u001b[1;31mSyntaxError\u001b[0m\u001b[1;31m:\u001b[0m invalid syntax\n"
     ]
    }
   ],
   "source": [
    "for i in range(1, 30):\n",
    "    print(fibs1(i), count1, '\\t\\t', fibs2(i), count2, '\\t\\t\\t', fibs3(i))\n",
    "    count = 0"
   ]
  },
  {
   "cell_type": "code",
   "execution_count": 50,
   "metadata": {},
   "outputs": [
    {
     "name": "stdout",
     "output_type": "stream",
     "text": [
      "Wall time: 23.9 ms\n"
     ]
    }
   ],
   "source": [
    "%%time\n",
    "for i in range(100000):\n",
    "    i = int(-100)"
   ]
  },
  {
   "cell_type": "code",
   "execution_count": 29,
   "metadata": {},
   "outputs": [
    {
     "data": {
      "text/plain": [
       "21"
      ]
     },
     "execution_count": 29,
     "metadata": {},
     "output_type": "execute_result"
    }
   ],
   "source": [
    "fibs1(8)"
   ]
  },
  {
   "cell_type": "code",
   "execution_count": null,
   "metadata": {},
   "outputs": [],
   "source": []
  },
  {
   "cell_type": "markdown",
   "metadata": {},
   "source": [
    "**107. Binary Tree Level Order Traversal II**\n",
    "\n",
    "Given a binary tree, return the bottom-up level order traversal of its nodes' values. (ie, from left to right, level by level from leaf to root).\n",
    "\n",
    "For example:\n",
    "Given binary tree [3,9,20,null,null,15,7],\n",
    "    3\n",
    "   / \\\n",
    "  9  20\n",
    "    /  \\\n",
    "   15   7\n",
    "return its bottom-up level order traversal as:\n",
    "[\n",
    "  [15,7],\n",
    "  [9,20],\n",
    "  [3]\n",
    "]"
   ]
  },
  {
   "cell_type": "code",
   "execution_count": 1,
   "metadata": {},
   "outputs": [],
   "source": [
    "from typing import List\n",
    "# Definition for a binary tree node.\n",
    "class TreeNode:\n",
    "    def __init__(self, x):\n",
    "        self.val = x\n",
    "        self.left = None\n",
    "        self.right = None\n"
   ]
  },
  {
   "cell_type": "code",
   "execution_count": 87,
   "metadata": {},
   "outputs": [],
   "source": [
    "from collections import deque\n",
    "class Solution:\n",
    "    def levelOrderBottom(self, root: TreeNode) -> List[List[int]]:\n",
    "        if not root:\n",
    "            return []\n",
    "        dict_ = {}\n",
    "        deq = deque([(root, 0)])\n",
    "        while deq:\n",
    "            node, depth = deq.popleft()\n",
    "            depth += 1\n",
    "            if node:\n",
    "                if depth in dict_:\n",
    "                    dict_[depth].append(node.val)\n",
    "                else:\n",
    "                    dict_[depth] = [node.val]\n",
    "                deq.append((node.left, depth))\n",
    "                deq.append((node.right, depth))\n",
    "        return [val for val in dict_.values()][::-1]\n",
    "            "
   ]
  },
  {
   "cell_type": "code",
   "execution_count": 88,
   "metadata": {},
   "outputs": [],
   "source": [
    "tree = TreeNode(2)\n",
    "tree.right = TreeNode(5)\n",
    "tree.left = TreeNode(8)\n",
    "tree.left.right = TreeNode(6)"
   ]
  },
  {
   "cell_type": "code",
   "execution_count": 89,
   "metadata": {},
   "outputs": [
    {
     "data": {
      "text/plain": [
       "[[6], [8, 5], [2]]"
      ]
     },
     "execution_count": 89,
     "metadata": {},
     "output_type": "execute_result"
    }
   ],
   "source": [
    "Solution().levelOrderBottom(tree)"
   ]
  },
  {
   "cell_type": "markdown",
   "metadata": {},
   "source": [
    "**108. Convert sorted array into binary search tree**\n",
    "\n",
    "Given an array where elements are sorted in ascending order, convert it to a height balanced BST.\n",
    "\n",
    "For this problem, a height-balanced binary tree is defined as a binary tree in which the depth of the two subtrees of every node never differ by more than 1.\n",
    "\n",
    "Example:\n",
    "\n",
    "Given the sorted array: [-10,-3,0,5,9],\n",
    "\n",
    "One possible answer is: [0,-3,9,-10,null,5], which represents the following height balanced BST:\n",
    "\n",
    "      0\n",
    "     / \\\n",
    "   -3   9\n",
    "   /   /\n",
    " -10  5"
   ]
  },
  {
   "cell_type": "code",
   "execution_count": 12,
   "metadata": {},
   "outputs": [],
   "source": [
    "# Definition for a binary tree node.\n",
    "# class TreeNode:\n",
    "#     def __init__(self, x):\n",
    "#         self.val = x\n",
    "#         self.left = None\n",
    "#         self.right = None\n",
    "\n",
    "class Solution:\n",
    "    def sortedArrayToBST(self, nums: List[int]) -> TreeNode:\n",
    "        if not nums:\n",
    "            return\n",
    "        mid = len(nums) // 2\n",
    "        root = TreeNode(nums[mid])\n",
    "        root.left = self.sortedArrayToBST(nums[:mid])\n",
    "        root.right = self.sortedArrayToBST(nums[mid+1:])\n",
    "        return root\n",
    "        "
   ]
  },
  {
   "cell_type": "code",
   "execution_count": 13,
   "metadata": {},
   "outputs": [
    {
     "name": "stdout",
     "output_type": "stream",
     "text": [
      "[0, 2, 3, 5, 7] 2\n",
      "[0, 2] 1\n",
      "[0] 0\n",
      "[5, 7] 1\n",
      "[5] 0\n"
     ]
    },
    {
     "data": {
      "text/plain": [
       "<__main__.TreeNode at 0x1e2532d1cc8>"
      ]
     },
     "execution_count": 13,
     "metadata": {},
     "output_type": "execute_result"
    }
   ],
   "source": [
    "Solution().sortedArrayToBST([0, 2, 3, 5, 7])"
   ]
  },
  {
   "cell_type": "code",
   "execution_count": null,
   "metadata": {},
   "outputs": [],
   "source": [
    "Given an integer array sorted in non-decreasing order, there is exactly one integer in the array that occurs more than 25% of the time.\n",
    "\n",
    "Return that integer.\n",
    "\n",
    " \n",
    "\n",
    "Example 1:\n",
    "\n",
    "Input: arr = [1,2,2,6,6,6,6,7,10]\n",
    "Output: 6\n",
    " \n",
    "\n",
    "Constraints:\n",
    "\n",
    "1 <= arr.length <= 10^4\n",
    "0 <= arr[i] <= 10^5"
   ]
  },
  {
   "cell_type": "code",
   "execution_count": 58,
   "metadata": {},
   "outputs": [],
   "source": [
    "from math import ceil\n",
    "class Solution:\n",
    "    def findSpecialInteger(self, arr: List[int]) -> int:\n",
    "        perc = ceil(0.25 * len(arr))\n",
    "        cur = arr[0]\n",
    "        cur_count = 0\n",
    "        for num in arr:\n",
    "            if num == cur:\n",
    "                cur_count += 1\n",
    "                if cur_count > perc:\n",
    "                    return num\n",
    "            else:\n",
    "                cur = num\n",
    "                cur_count = 1\n",
    "        \n",
    "        "
   ]
  },
  {
   "cell_type": "code",
   "execution_count": 59,
   "metadata": {},
   "outputs": [
    {
     "data": {
      "text/plain": [
       "3"
      ]
     },
     "execution_count": 59,
     "metadata": {},
     "output_type": "execute_result"
    }
   ],
   "source": [
    "Solution().findSpecialInteger([1,1,2,2,3,3,3,3])"
   ]
  },
  {
   "cell_type": "code",
   "execution_count": null,
   "metadata": {},
   "outputs": [],
   "source": [
    "Given a list of intervals, remove all intervals that are covered by another interval in the list. Interval [a,b) is covered by interval [c,d) if and only if c <= a and b <= d.\n",
    "\n",
    "After doing so, return the number of remaining intervals.\n",
    "\n",
    " \n",
    "\n",
    "Example 1:\n",
    "\n",
    "Input: intervals = [[1,4],[3,6],[2,8]]\n",
    "Output: 2\n",
    "Explanation: Interval [3,6] is covered by [2,8], therefore it is removed.\n",
    " \n",
    "\n",
    "Constraints:\n",
    "\n",
    "1 <= intervals.length <= 1000\n",
    "0 <= intervals[i][0] < intervals[i][1] <= 10^5\n",
    "intervals[i] != intervals[j] for all i != j"
   ]
  },
  {
   "cell_type": "code",
   "execution_count": 69,
   "metadata": {},
   "outputs": [],
   "source": [
    "class Solution:\n",
    "    def removeCoveredIntervals(self, intervals: List[List[int]]) -> int:\n",
    "        if not intervals or not intervals[0]:\n",
    "            return 0\n",
    "        count = len(intervals)\n",
    "        for i, inter1 in enumerate(intervals):\n",
    "            for j, inter2 in enumerate(intervals):\n",
    "                if inter2[0] <= inter1[0] and inter2[1] >= inter1[1] and i != j:\n",
    "                    count -= 1\n",
    "                    break\n",
    "        return count\n",
    "            "
   ]
  },
  {
   "cell_type": "code",
   "execution_count": 70,
   "metadata": {},
   "outputs": [
    {
     "data": {
      "text/plain": [
       "0"
      ]
     },
     "execution_count": 70,
     "metadata": {},
     "output_type": "execute_result"
    }
   ],
   "source": [
    "Solution().removeCoveredIntervals([[]])"
   ]
  },
  {
   "cell_type": "code",
   "execution_count": null,
   "metadata": {},
   "outputs": [],
   "source": [
    "Design an Iterator class, which has:\n",
    "\n",
    "A constructor that takes a string characters of sorted distinct lowercase English letters and a number combinationLength as arguments.\n",
    "A function next() that returns the next combination of length combinationLength in lexicographical order.\n",
    "A function hasNext() that returns True if and only if there exists a next combination.\n",
    " \n",
    "\n",
    "Example:\n",
    "\n",
    "CombinationIterator iterator = new CombinationIterator(\"abc\", 2); // creates the iterator.\n",
    "\n",
    "iterator.next(); // returns \"ab\"\n",
    "iterator.hasNext(); // returns true\n",
    "iterator.next(); // returns \"ac\"\n",
    "iterator.hasNext(); // returns true\n",
    "iterator.next(); // returns \"bc\"\n",
    "iterator.hasNext(); // returns false\n",
    " \n",
    "\n",
    "Constraints:\n",
    "\n",
    "1 <= combinationLength <= characters.length <= 15\n",
    "There will be at most 10^4 function calls per test.\n",
    "It's guaranteed that all calls of the function next are valid."
   ]
  },
  {
   "cell_type": "code",
   "execution_count": 72,
   "metadata": {},
   "outputs": [],
   "source": [
    "class CombinationIterator:\n",
    "\n",
    "    def __init__(self, characters: str, combinationLength: int):\n",
    "        self.str_ = characters\n",
    "        self.len_ = combinationLength\n",
    "        self._next = self.str_[:min(len(characters), combinationLength)]\n",
    "        self._combinations = \n",
    "\n",
    "    def next(self) -> str:\n",
    "        cur = self._next\n",
    "        \n",
    "        \n",
    "\n",
    "    def hasNext(self) -> bool:\n",
    "        \n",
    "        \n",
    "        \n",
    "\n",
    "\n",
    "# Your CombinationIterator object will be instantiated and called as such:\n",
    "# obj = CombinationIterator(characters, combinationLength)\n",
    "# param_1 = obj.next()\n",
    "# param_2 = obj.hasNext()"
   ]
  },
  {
   "cell_type": "code",
   "execution_count": null,
   "metadata": {},
   "outputs": [],
   "source": [
    "Given a square grid of integers arr, a falling path with non-zero shifts is a choice of exactly one element from each row of arr, such that no two elements chosen in adjacent rows are in the same column.\n",
    "\n",
    "Return the minimum sum of a falling path with non-zero shifts.\n",
    "\n",
    " \n",
    "\n",
    "Example 1:\n",
    "\n",
    "Input: arr = [[1,2,3],[4,5,6],[7,8,9]]\n",
    "Output: 13\n",
    "Explanation: \n",
    "The possible falling paths are:\n",
    "[1,5,9], [1,5,7], [1,6,7], [1,6,8],\n",
    "[2,4,8], [2,4,9], [2,6,7], [2,6,8],\n",
    "[3,4,8], [3,4,9], [3,5,7], [3,5,9]\n",
    "The falling path with the smallest sum is [1,5,7], so the answer is 13.\n",
    " \n",
    "\n",
    "Constraints:\n",
    "\n",
    "1 <= arr.length == arr[i].length <= 200\n",
    "-99 <= arr[i][j] <= 99"
   ]
  },
  {
   "cell_type": "code",
   "execution_count": 118,
   "metadata": {},
   "outputs": [],
   "source": [
    "from math import inf\n",
    "class Solution:\n",
    "    def minFallingPathSum(self, arr: List[List[int]]) -> int:\n",
    "        if not arr or not arr[0]:\n",
    "            return\n",
    "        sum1 = sum2 = 0\n",
    "        ind1 = ind2 = -1\n",
    "        ind_prev1 = ind_prev2 = -1\n",
    "        for i, nums in enumerate(arr):\n",
    "            min1 = inf\n",
    "            min2 = inf\n",
    "            for j, num in enumerate(nums):\n",
    "                if num < min1 and j != ind_prev1:\n",
    "                    if min2 == inf and j != ind_prev2:\n",
    "                        min2 = min1\n",
    "                        ind2 = ind1\n",
    "                    min1 = num\n",
    "                    ind1 = j\n",
    "                    continue\n",
    "                if num < min2 and j != ind_prev2 and j != ind1:\n",
    "                    min2 = num\n",
    "                    ind2 = j\n",
    "                print(j, min1, ind1, min2, ind2)\n",
    "            ind_prev1, ind_prev2 = ind1, ind2\n",
    "            sum1 += min1\n",
    "            sum2 += min2\n",
    "            print(sum1, sum2)\n",
    "            if sum2 < sum1:\n",
    "                sum1, sum2 = sum2, sum1\n",
    "                ind1, ind2 = ind2, ind1\n",
    "        return sum1\n",
    "                \n",
    "                "
   ]
  },
  {
   "cell_type": "code",
   "execution_count": 119,
   "metadata": {},
   "outputs": [
    {
     "name": "stdout",
     "output_type": "stream",
     "text": [
      "1 -37 0 51 1\n",
      "2 -37 0 -36 2\n",
      "3 -37 0 -36 2\n",
      "4 -37 0 -36 2\n",
      "-37 -36\n",
      "0 inf 0 inf 2\n",
      "2 4 1 inf 0\n",
      "3 4 1 14 3\n",
      "4 4 1 14 3\n",
      "-33 -22\n",
      "1 -68 0 -52 1\n",
      "3 -92 2 -52 1\n",
      "4 -92 2 -85 4\n",
      "-125 -107\n",
      "1 -49 0 -3 1\n",
      "2 -49 0 -77 2\n",
      "3 -49 0 -77 2\n",
      "4 -49 0 -77 2\n",
      "-174 -184\n",
      "0 inf 2 -60 0\n",
      "2 -71 1 -60 0\n",
      "3 -71 1 -62 3\n",
      "-257 -236\n"
     ]
    },
    {
     "data": {
      "text/plain": [
       "-257"
      ]
     },
     "execution_count": 119,
     "metadata": {},
     "output_type": "execute_result"
    }
   ],
   "source": [
    "Solution().minFallingPathSum([[-37,51,-36,34,-22],[82,4,30,14,38],[-68,-52,-92,65,-85],[-49,-3,-77,8,-19],[-60,-71,-21,-62,-73]] )"
   ]
  },
  {
   "cell_type": "code",
   "execution_count": 108,
   "metadata": {},
   "outputs": [],
   "source": [
    "from math import inf\n",
    "class Solution:\n",
    "    def minFallingPathSum(self, arr: List[List[int]]) -> int:\n",
    "        if not arr or not arr[0]:\n",
    "            return\n",
    "        sum1 = sum2 = 0\n",
    "        ind1 = ind2 = -1\n",
    "        ind_prev1 = ind_prev2 = 0\n",
    "        for i, nums in enumerate(arr):\n",
    "            min1 = inf\n",
    "            min2 = inf\n",
    "            for j, num in enumerate(nums):\n",
    "                if num < min1 and j != ind_prev1:\n",
    "                    min1 = num\n",
    "                    ind1 = j\n",
    "                if num < min2 and j != ind_prev2 and j != ind1:\n",
    "                    min2 = num\n",
    "                    ind2 = j\n",
    "            ind_prev1, ind_prev2 = ind1, ind2\n",
    "            sum1 += min1\n",
    "            sum2 += min2\n",
    "            if sum2 < sum1:\n",
    "                sum1, sum2 = sum2, sum1\n",
    "                ind1, ind2 = ind2, ind1\n",
    "        return sum1\n",
    "                \n",
    "                "
   ]
  },
  {
   "cell_type": "code",
   "execution_count": 117,
   "metadata": {},
   "outputs": [
    {
     "name": "stdout",
     "output_type": "stream",
     "text": [
      "1 2 0 2 1\n",
      "3 1 2 2 1\n",
      "4 1 2 2 1\n",
      "1 2\n",
      "1 2 0 inf 2\n",
      "2 2 0 1 2\n",
      "3 2 0 1 2\n",
      "4 2 0 1 2\n",
      "3 3\n",
      "0 inf 0 inf 2\n",
      "3 1 2 2 3\n",
      "4 1 2 2 3\n",
      "4 5\n",
      "1 2 0 2 1\n",
      "2 2 0 1 2\n",
      "3 2 0 1 2\n",
      "4 2 0 1 2\n",
      "6 6\n",
      "0 inf 0 inf 2\n",
      "3 1 2 2 3\n",
      "4 1 2 2 3\n",
      "7 8\n"
     ]
    },
    {
     "data": {
      "text/plain": [
       "7"
      ]
     },
     "execution_count": 117,
     "metadata": {},
     "output_type": "execute_result"
    }
   ],
   "source": [
    "Solution().minFallingPathSum([[2,2,1,2,2],[2,2,1,2,2],[2,2,1,2,2],[2,2,1,2,2],[2,2,1,2,2]])"
   ]
  },
  {
   "cell_type": "code",
   "execution_count": null,
   "metadata": {},
   "outputs": [],
   "source": []
  },
  {
   "cell_type": "code",
   "execution_count": null,
   "metadata": {},
   "outputs": [],
   "source": []
  },
  {
   "cell_type": "code",
   "execution_count": null,
   "metadata": {},
   "outputs": [],
   "source": []
  },
  {
   "cell_type": "code",
   "execution_count": null,
   "metadata": {},
   "outputs": [],
   "source": []
  }
 ],
 "metadata": {
  "kernelspec": {
   "display_name": "Python 3",
   "language": "python",
   "name": "python3"
  },
  "language_info": {
   "codemirror_mode": {
    "name": "ipython",
    "version": 3
   },
   "file_extension": ".py",
   "mimetype": "text/x-python",
   "name": "python",
   "nbconvert_exporter": "python",
   "pygments_lexer": "ipython3",
   "version": "3.7.5"
  }
 },
 "nbformat": 4,
 "nbformat_minor": 2
}
