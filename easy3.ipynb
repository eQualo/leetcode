{
 "cells": [
  {
   "cell_type": "markdown",
   "metadata": {},
   "source": [
    "**88. Merge sorted array**\n",
    "\n",
    "Given two sorted integer arrays nums1 and nums2, merge nums2 into nums1 as one sorted array.\n",
    "\n",
    "Note:\n",
    "\n",
    "The number of elements initialized in nums1 and nums2 are m and n respectively.\n",
    "You may assume that nums1 has enough space (size that is greater or equal to m + n) to hold additional elements from nums2.\n",
    "Example:\n",
    "\n",
    "Input:\n",
    "nums1 = [1,2,3,0,0,0], m = 3\n",
    "nums2 = [2,5,6],       n = 3\n",
    "\n",
    "Output: [1,2,2,3,5,6]"
   ]
  },
  {
   "cell_type": "code",
   "execution_count": 205,
   "metadata": {},
   "outputs": [],
   "source": [
    "from typing import List\n",
    "class Solution:\n",
    "    def merge(self, nums1: List[int], m: int, nums2: List[int], n: int) -> None:\n",
    "        \"\"\"\n",
    "        Do not return anything, modify nums1 in-place instead.\n",
    "        \"\"\"\n",
    "        if not n:\n",
    "            return\n",
    "        if not m:\n",
    "            nums1[:] = nums2[:]\n",
    "            return\n",
    "        cur1 = cur2 = 0\n",
    "        nums1_copy = nums1[:m]\n",
    "        while cur1 + cur2 < m + n:\n",
    "            if nums1_copy[cur1] <= nums2[cur2]:\n",
    "                nums1[cur1 + cur2] = nums1_copy[cur1]\n",
    "                cur1 += 1\n",
    "                if cur1 == m:\n",
    "                    nums1[cur1 + cur2:] = nums2[cur2:]\n",
    "                    break  \n",
    "            else:\n",
    "                nums1[cur1 + cur2] = nums2[cur2]\n",
    "                cur2 += 1\n",
    "                if cur2 == n:\n",
    "                    nums1[cur1 + cur2:] = nums1_copy[cur1:]\n",
    "                    break\n",
    "                    \n",
    "    def merge1(self, nums1: List[int], m: int, nums2: List[int], n: int) -> None:\n",
    "        while m > 0 and n > 0:\n",
    "            if nums1[m - 1] > nums2[n - 1]:\n",
    "                nums1[m + n - 1] = nums1[m - 1]\n",
    "                m -= 1\n",
    "            else:\n",
    "                nums1[m + n - 1] = nums2[n - 1]\n",
    "                n -= 1\n",
    "        nums1[:n] = nums2[:n]\n",
    "        \n",
    "        "
   ]
  },
  {
   "cell_type": "code",
   "execution_count": 201,
   "metadata": {},
   "outputs": [
    {
     "data": {
      "text/plain": [
       "[7, 8, 9, 4]"
      ]
     },
     "execution_count": 201,
     "metadata": {},
     "output_type": "execute_result"
    }
   ],
   "source": [
    "a = [1, 2, 3, 4]\n",
    "b = [7, 8, 9]\n",
    "a[:-1] = b\n",
    "a"
   ]
  },
  {
   "cell_type": "code",
   "execution_count": 202,
   "metadata": {},
   "outputs": [
    {
     "data": {
      "text/plain": [
       "(1, 3, 5)"
      ]
     },
     "execution_count": 202,
     "metadata": {},
     "output_type": "execute_result"
    }
   ],
   "source": [
    "1, 2, 4, 6, 0, 0, 0\n",
    "1, 3, 5"
   ]
  },
  {
   "cell_type": "code",
   "execution_count": 203,
   "metadata": {},
   "outputs": [
    {
     "name": "stdout",
     "output_type": "stream",
     "text": [
      "[1, 2, 2, 3, 5, 6]\n"
     ]
    }
   ],
   "source": [
    "Solution().merge1([1,2,3,0,0,0],\n",
    "3,\n",
    "[2,5,6],\n",
    "3)"
   ]
  },
  {
   "cell_type": "code",
   "execution_count": 206,
   "metadata": {},
   "outputs": [
    {
     "name": "stdout",
     "output_type": "stream",
     "text": [
      "[1]\n"
     ]
    },
    {
     "data": {
      "text/plain": [
       "[1]"
      ]
     },
     "execution_count": 206,
     "metadata": {},
     "output_type": "execute_result"
    }
   ],
   "source": [
    "a = [0]\n",
    "Solution().merge1(a, 0, [1], 1)\n",
    "a"
   ]
  },
  {
   "cell_type": "markdown",
   "metadata": {},
   "source": [
    "**100. Same tree**\n",
    "\n",
    "Given two binary trees, write a function to check if they are the same or not.\n",
    "\n",
    "Two binary trees are considered the same if they are structurally identical and the nodes have the same value.\n",
    "\n",
    "Example 1:\n",
    "\n",
    "Input:     1         1\n",
    "          / \\       / \\\n",
    "         2   3     2   3\n",
    "\n",
    "        [1,2,3],   [1,2,3]\n",
    "\n",
    "Output: true\n",
    "Example 2:\n",
    "\n",
    "Input:     1         1\n",
    "          /           \\\n",
    "         2             2\n",
    "\n",
    "        [1,2],     [1,null,2]\n",
    "\n",
    "Output: false\n",
    "Example 3:\n",
    "\n",
    "Input:     1         1\n",
    "          / \\       / \\\n",
    "         2   1     1   2\n",
    "\n",
    "        [1,2,1],   [1,1,2]\n",
    "\n",
    "Output: false"
   ]
  },
  {
   "cell_type": "code",
   "execution_count": 209,
   "metadata": {},
   "outputs": [],
   "source": [
    "# Definition for a binary tree node.\n",
    "class TreeNode:\n",
    "    def __init__(self, x):\n",
    "        self.val = x\n",
    "        self.left = None\n",
    "        self.right = None\n",
    "        "
   ]
  },
  {
   "cell_type": "code",
   "execution_count": 212,
   "metadata": {},
   "outputs": [],
   "source": [
    "class Solution:\n",
    "    def isSameTree(self, p: TreeNode, q: TreeNode) -> bool:\n",
    "        if (p and not q) or (q and not p):\n",
    "            return False\n",
    "        if not p and not q:\n",
    "            return True\n",
    "        if p.val != q.val:\n",
    "            return False\n",
    "        return self.isSameTree(p.left, q.left) and self.isSameTree(p.right, q.right)"
   ]
  },
  {
   "cell_type": "markdown",
   "metadata": {},
   "source": [
    "**101. Symmetric tree**\n",
    "\n",
    "Given a binary tree, check whether it is a mirror of itself (ie, symmetric around its center).\n",
    "\n",
    "For example, this binary tree [1,2,2,3,4,4,3] is symmetric:\n",
    "\n",
    "    1\n",
    "   / \\\n",
    "  2   2\n",
    " / \\ / \\\n",
    "3  4 4  3\n",
    " \n",
    "\n",
    "But the following [1,2,2,null,3,null,3] is not:\n",
    "\n",
    "    1\n",
    "   / \\\n",
    "  2   2\n",
    "   \\   \\\n",
    "   3    3\n",
    " \n",
    "\n",
    "Note:\n",
    "Bonus points if you could solve it both recursively and iteratively."
   ]
  },
  {
   "cell_type": "code",
   "execution_count": 237,
   "metadata": {},
   "outputs": [],
   "source": [
    "# Definition for a binary tree node.\n",
    "class TreeNode:\n",
    "    def __init__(self, x):\n",
    "        self.val = x\n",
    "        self.left = None\n",
    "        self.right = None\n",
    "    \n",
    "    def __str__(self):\n",
    "        return f'node(val = {self.val}, r = {self.left}, l = {self.right})'\n",
    "    \n",
    "    def __repr__(self):\n",
    "        return f'node(val = {self.val}, r = {self.left}, l = {self.right})'"
   ]
  },
  {
   "cell_type": "code",
   "execution_count": 215,
   "metadata": {},
   "outputs": [],
   "source": [
    "class Solution:\n",
    "    def isMirror(self, p: TreeNode, q: TreeNode) -> bool:\n",
    "        if p and q:\n",
    "            return p.val == q.val and self.isMirror(p.left, q.right) and self.isMirror(p.right, q.left)\n",
    "        return p is q\n",
    "    def isSymmetric(self, root: TreeNode) -> bool:\n",
    "        return self.isMirror(root.left, root.right) if root else True\n",
    "        "
   ]
  },
  {
   "cell_type": "code",
   "execution_count": 251,
   "metadata": {},
   "outputs": [],
   "source": [
    "from collections import deque\n",
    "class Solution:\n",
    "    def check(self, p: TreeNode, q: TreeNode):\n",
    "        return p.val == q.val if p and q else p is q\n",
    "    \n",
    "    def isSymmetric(self, root: TreeNode) -> bool:\n",
    "        if not root:\n",
    "            return True\n",
    "        deq: deque = deque([(root.left, root.right)])\n",
    "        while deq:\n",
    "            node = deq.popleft()\n",
    "            if not self.check(node[0], node[1]):\n",
    "                return False\n",
    "            if node[0]:\n",
    "                deq.append((node[0].left, node[1].right))\n",
    "                deq.append((node[0].right, node[1].left))\n",
    "        return True\n",
    "            \n",
    "        "
   ]
  },
  {
   "cell_type": "code",
   "execution_count": 249,
   "metadata": {},
   "outputs": [],
   "source": [
    "tree = TreeNode(5)\n",
    "tree.right = TreeNode(5)\n",
    "tree.left = TreeNode(5)\n"
   ]
  },
  {
   "cell_type": "code",
   "execution_count": 252,
   "metadata": {},
   "outputs": [
    {
     "data": {
      "text/plain": [
       "True"
      ]
     },
     "execution_count": 252,
     "metadata": {},
     "output_type": "execute_result"
    }
   ],
   "source": [
    "Solution().isSymmetric(tree)"
   ]
  },
  {
   "cell_type": "markdown",
   "metadata": {},
   "source": [
    "**104. Maximum depth of binary tree**\n",
    "\n",
    "Given a binary tree, find its maximum depth.\n",
    "\n",
    "The maximum depth is the number of nodes along the longest path from the root node down to the farthest leaf node.\n",
    "\n",
    "Note: A leaf is a node with no children.\n",
    "\n",
    "Example:\n",
    "\n",
    "Given binary tree [3,9,20,null,null,15,7],\n",
    "\n",
    "    3\n",
    "   / \\\n",
    "  9  20\n",
    "    /  \\\n",
    "   15   7\n",
    "return its depth = 3."
   ]
  },
  {
   "cell_type": "code",
   "execution_count": 254,
   "metadata": {},
   "outputs": [],
   "source": [
    "class Solution:\n",
    "    def maxDepth(self, root: TreeNode) -> int:\n",
    "        return max(self.maxDepth(root.left) + 1, self.maxDepth(root.right) + 1) if root else 0"
   ]
  },
  {
   "cell_type": "code",
   "execution_count": 256,
   "metadata": {},
   "outputs": [],
   "source": [
    "from collections import deque\n",
    "class Solution:\n",
    "    def maxDepth(self, root: TreeNode) -> int:\n",
    "        deq = deque((root, 0))\n",
    "        depth = 0\n",
    "        while deq:\n",
    "            node, len_ = deq.popleft()\n",
    "            if node:\n",
    "                len_ += 1\n",
    "                depth = max(depth, len_)\n",
    "                deq.append((node.left, len_))\n",
    "                deq.append((npde.right, len_))\n",
    "        return depth\n",
    "            "
   ]
  },
  {
   "cell_type": "code",
   "execution_count": null,
   "metadata": {},
   "outputs": [],
   "source": []
  },
  {
   "cell_type": "code",
   "execution_count": 57,
   "metadata": {},
   "outputs": [],
   "source": [
    "count1 = 0\n",
    "dict_ = {}\n",
    "def fibs1(n):\n",
    "    global count1\n",
    "    count1 += 1\n",
    "    if n == 1 or n == 2:\n",
    "        return 1\n",
    "    return fibs1(n - 1) + fibs1(n - 2)\n",
    "\n",
    "\n",
    "count2 = 0\n",
    "def fibs2(n):\n",
    "    global count2\n",
    "    global dict_\n",
    "    count2 += 1\n",
    "    if n == 1 or n == 2:\n",
    "        return 1\n",
    "    ans = dict_[n] if n in dict_ else fibs1(n - 1) + fibs2(n - 2)\n",
    "    dict_[n] = ans\n",
    "    return ans\n",
    "\n",
    "def fibs3(n):\n",
    "    nums = [1, 1]\n",
    "    for i in range(n - 2):\n",
    "        nums[1] += nums[0]\n",
    "        nums[0] = nums[1] - nums[0]\n",
    "    return nums[1]\n"
   ]
  },
  {
   "cell_type": "code",
   "execution_count": 53,
   "metadata": {},
   "outputs": [
    {
     "name": "stdout",
     "output_type": "stream",
     "text": [
      "1 1 \t\t 1 1\n",
      "1 2 \t\t 1 2\n",
      "2 5 \t\t 2 4\n",
      "3 11 \t\t 3 6\n",
      "5 23 \t\t 5 8\n",
      "8 43 \t\t 8 10\n",
      "13 77 \t\t 13 12\n",
      "21 133 \t\t 21 14\n",
      "34 225 \t\t 34 16\n",
      "55 375 \t\t 55 18\n",
      "89 619 \t\t 89 20\n",
      "144 1015 \t\t 144 22\n",
      "233 1657 \t\t 233 24\n",
      "377 2697 \t\t 377 26\n",
      "610 4381 \t\t 610 28\n",
      "987 7107 \t\t 987 30\n",
      "1597 11519 \t\t 1597 32\n",
      "2584 18659 \t\t 2584 34\n",
      "4181 30213 \t\t 4181 36\n",
      "6765 48909 \t\t 6765 38\n",
      "10946 79161 \t\t 10946 40\n",
      "17711 128111 \t\t 17711 42\n",
      "28657 207315 \t\t 28657 44\n",
      "46368 335471 \t\t 46368 46\n",
      "75025 542833 \t\t 75025 48\n",
      "121393 878353 \t\t 121393 50\n",
      "196418 1421237 \t\t 196418 52\n",
      "317811 2299643 \t\t 317811 54\n",
      "514229 3720935 \t\t 514229 56\n"
     ]
    }
   ],
   "source": [
    "for i in range(1, 30):\n",
    "    print(fibs1(i), count1, '\\t\\t', fibs2(i), count2)\n",
    "    count = 0"
   ]
  },
  {
   "cell_type": "code",
   "execution_count": 62,
   "metadata": {},
   "outputs": [
    {
     "data": {
      "text/plain": [
       "8"
      ]
     },
     "execution_count": 62,
     "metadata": {},
     "output_type": "execute_result"
    }
   ],
   "source": [
    "fibs3(6) "
   ]
  },
  {
   "cell_type": "code",
   "execution_count": 29,
   "metadata": {},
   "outputs": [
    {
     "data": {
      "text/plain": [
       "21"
      ]
     },
     "execution_count": 29,
     "metadata": {},
     "output_type": "execute_result"
    }
   ],
   "source": [
    "fibs1(8)"
   ]
  },
  {
   "cell_type": "code",
   "execution_count": null,
   "metadata": {},
   "outputs": [],
   "source": []
  },
  {
   "cell_type": "markdown",
   "metadata": {},
   "source": [
    "**107. Binary Tree Level Order Traversal II**\n",
    "\n",
    "Given a binary tree, return the bottom-up level order traversal of its nodes' values. (ie, from left to right, level by level from leaf to root).\n",
    "\n",
    "For example:\n",
    "Given binary tree [3,9,20,null,null,15,7],\n",
    "    3\n",
    "   / \\\n",
    "  9  20\n",
    "    /  \\\n",
    "   15   7\n",
    "return its bottom-up level order traversal as:\n",
    "[\n",
    "  [15,7],\n",
    "  [9,20],\n",
    "  [3]\n",
    "]"
   ]
  },
  {
   "cell_type": "code",
   "execution_count": 66,
   "metadata": {},
   "outputs": [],
   "source": [
    "from typing import List\n",
    "# Definition for a binary tree node.\n",
    "class TreeNode:\n",
    "    def __init__(self, x):\n",
    "        self.val = x\n",
    "        self.left = None\n",
    "        self.right = None\n"
   ]
  },
  {
   "cell_type": "code",
   "execution_count": 87,
   "metadata": {},
   "outputs": [],
   "source": [
    "from collections import deque\n",
    "class Solution:\n",
    "    def levelOrderBottom(self, root: TreeNode) -> List[List[int]]:\n",
    "        if not root:\n",
    "            return []\n",
    "        dict_ = {}\n",
    "        deq = deque([(root, 0)])\n",
    "        while deq:\n",
    "            node, depth = deq.popleft()\n",
    "            depth += 1\n",
    "            if node:\n",
    "                if depth in dict_:\n",
    "                    dict_[depth].append(node.val)\n",
    "                else:\n",
    "                    dict_[depth] = [node.val]\n",
    "                deq.append((node.left, depth))\n",
    "                deq.append((node.right, depth))\n",
    "        return [val for val in dict_.values()][::-1]\n",
    "            "
   ]
  },
  {
   "cell_type": "code",
   "execution_count": 88,
   "metadata": {},
   "outputs": [],
   "source": [
    "tree = TreeNode(2)\n",
    "tree.right = TreeNode(5)\n",
    "tree.left = TreeNode(8)\n",
    "tree.left.right = TreeNode(6)"
   ]
  },
  {
   "cell_type": "code",
   "execution_count": 89,
   "metadata": {},
   "outputs": [
    {
     "data": {
      "text/plain": [
       "[[6], [8, 5], [2]]"
      ]
     },
     "execution_count": 89,
     "metadata": {},
     "output_type": "execute_result"
    }
   ],
   "source": [
    "Solution().levelOrderBottom(tree)"
   ]
  },
  {
   "cell_type": "markdown",
   "metadata": {},
   "source": [
    "**108. Convert sorted array into binary search tree**\n",
    "\n",
    "Given an array where elements are sorted in ascending order, convert it to a height balanced BST.\n",
    "\n",
    "For this problem, a height-balanced binary tree is defined as a binary tree in which the depth of the two subtrees of every node never differ by more than 1.\n",
    "\n",
    "Example:\n",
    "\n",
    "Given the sorted array: [-10,-3,0,5,9],\n",
    "\n",
    "One possible answer is: [0,-3,9,-10,null,5], which represents the following height balanced BST:\n",
    "\n",
    "      0\n",
    "     / \\\n",
    "   -3   9\n",
    "   /   /\n",
    " -10  5"
   ]
  },
  {
   "cell_type": "code",
   "execution_count": 90,
   "metadata": {},
   "outputs": [],
   "source": [
    "# Definition for a binary tree node.\n",
    "# class TreeNode:\n",
    "#     def __init__(self, x):\n",
    "#         self.val = x\n",
    "#         self.left = None\n",
    "#         self.right = None\n",
    "\n",
    "class Solution:\n",
    "    def sortedArrayToBST(self, nums: List[int]) -> TreeNode:\n",
    "        if not nums:\n",
    "            return\n",
    "        "
   ]
  },
  {
   "cell_type": "code",
   "execution_count": null,
   "metadata": {},
   "outputs": [],
   "source": []
  },
  {
   "cell_type": "code",
   "execution_count": null,
   "metadata": {},
   "outputs": [],
   "source": []
  },
  {
   "cell_type": "code",
   "execution_count": null,
   "metadata": {},
   "outputs": [],
   "source": []
  }
 ],
 "metadata": {
  "kernelspec": {
   "display_name": "Python 3",
   "language": "python",
   "name": "python3"
  },
  "language_info": {
   "codemirror_mode": {
    "name": "ipython",
    "version": 3
   },
   "file_extension": ".py",
   "mimetype": "text/x-python",
   "name": "python",
   "nbconvert_exporter": "python",
   "pygments_lexer": "ipython3",
   "version": "3.7.5"
  }
 },
 "nbformat": 4,
 "nbformat_minor": 2
}
