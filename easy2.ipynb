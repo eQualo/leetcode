{
 "cells": [
  {
   "cell_type": "markdown",
   "metadata": {},
   "source": [
    "**38. Count and say**\n",
    "\n",
    "The count-and-say sequence is the sequence of integers with the first five terms as following:\n",
    "\n",
    "1.     1\n",
    "2.     11\n",
    "3.     21\n",
    "4.     1211\n",
    "5.     111221\n",
    "1 is read off as \"one 1\" or 11.\n",
    "11 is read off as \"two 1s\" or 21.\n",
    "21 is read off as \"one 2, then one 1\" or 1211.\n",
    "\n",
    "Given an integer n where 1 ≤ n ≤ 30, generate the nth term of the count-and-say sequence. You can do so recursively, in other words from the previous member read off the digits, counting the number of digits in groups of the same digit.\n",
    "\n",
    "Note: Each term of the sequence of integers will be represented as a string."
   ]
  },
  {
   "cell_type": "code",
   "execution_count": 68,
   "metadata": {},
   "outputs": [],
   "source": [
    "class Solution:\n",
    "    def generateStr(self, cur: str) -> str:\n",
    "        prev = cur[0]\n",
    "        cur += ' '\n",
    "        count = 1\n",
    "        symb = []\n",
    "        for c in cur[1:]:\n",
    "            if prev == c:\n",
    "                count += 1\n",
    "            else:                \n",
    "                symb.append(str(count))\n",
    "                symb.append(prev)\n",
    "                count = 1\n",
    "                prev = c\n",
    "        return ''.join(symb)\n",
    "                   \n",
    "    def countAndSay1(self, n: int) -> str:\n",
    "        start = '1'\n",
    "        for i in range(n - 1):\n",
    "            start = self.generateStr(start)\n",
    "            print(start)\n",
    "        return start\n",
    "    \n",
    "    def countAndSay(self, n: int) -> str:\n",
    "        start = '1'\n",
    "        for i in range(n - 1):\n",
    "            start = ''.join(str(len(list(group))) + symb for symb, group in groupby(start))\n",
    "        return start"
   ]
  },
  {
   "cell_type": "code",
   "execution_count": 70,
   "metadata": {},
   "outputs": [
    {
     "data": {
      "text/plain": [
       "'111221'"
      ]
     },
     "execution_count": 70,
     "metadata": {},
     "output_type": "execute_result"
    }
   ],
   "source": [
    "a = Solution().countAndSay(5)\n",
    "a"
   ]
  },
  {
   "cell_type": "code",
   "execution_count": 52,
   "metadata": {},
   "outputs": [],
   "source": [
    "from itertools import groupby\n"
   ]
  },
  {
   "cell_type": "code",
   "execution_count": 62,
   "metadata": {},
   "outputs": [
    {
     "name": "stdout",
     "output_type": "stream",
     "text": [
      "False [1, 1]\n",
      "True [2]\n",
      "False [3, 1, 1]\n"
     ]
    }
   ],
   "source": [
    "for key, value in groupby([1, 1, 2, 3, 1, 1], key=lambda x: x % 2 == 0):\n",
    "    print(key, list(value))"
   ]
  },
  {
   "cell_type": "markdown",
   "metadata": {},
   "source": [
    "**53. Maximum subarray**\n",
    "\n",
    "Given an integer array nums, find the contiguous subarray (containing at least one number) which has the largest sum and return its sum.\n",
    "\n",
    "Example:\n",
    "\n",
    "Input: [-2,1,-3,4,-1,2,1,-5,4],\n",
    "Output: 6\n",
    "Explanation: [4,-1,2,1] has the largest sum = 6.\n",
    "Follow up:\n",
    "\n",
    "If you have figured out the O(n) solution, try coding another solution using the divide and conquer approach, which is more subtle."
   ]
  },
  {
   "cell_type": "code",
   "execution_count": 1,
   "metadata": {},
   "outputs": [],
   "source": [
    "from itertools import accumulate, groupby\n",
    "from typing import List\n",
    "from operator import sub"
   ]
  },
  {
   "cell_type": "code",
   "execution_count": 54,
   "metadata": {},
   "outputs": [],
   "source": [
    "class Solution:\n",
    "    def maxSubArray(self, nums: List[int]) -> int:\n",
    "        if not nums:\n",
    "            return None\n",
    "        total = nums[0]\n",
    "        cur = total\n",
    "        for num in nums[1:]:\n",
    "            print(cur)\n",
    "            cur = max(num, num + cur)\n",
    "            total = max(cur, total)\n",
    "        print(cur)\n",
    "        return total\n",
    "    \n",
    "    def maxSubArray2(self, nums: List[int]) -> int:\n",
    "        return max(accumulate(nums, lambda x, y: max(x + y, y)))"
   ]
  },
  {
   "cell_type": "code",
   "execution_count": 56,
   "metadata": {},
   "outputs": [
    {
     "data": {
      "text/plain": [
       "13"
      ]
     },
     "execution_count": 56,
     "metadata": {},
     "output_type": "execute_result"
    }
   ],
   "source": [
    "Solution().maxSubArray2([1, 3, -2, -4, 0, 5, -1, 1, -2, 10, - 5])"
   ]
  },
  {
   "cell_type": "markdown",
   "metadata": {},
   "source": [
    "**58. Length of last word**\n",
    "\n",
    "Given a string s consists of upper/lower-case alphabets and empty space characters ' ', return the length of last word in the string.\n",
    "\n",
    "If the last word does not exist, return 0.\n",
    "\n",
    "Note: A word is defined as a character sequence consists of non-space characters only.\n",
    "\n",
    "Example:\n",
    "\n",
    "Input: \"Hello World\"\n",
    "Output: 5"
   ]
  },
  {
   "cell_type": "code",
   "execution_count": 59,
   "metadata": {},
   "outputs": [],
   "source": [
    "class Solution:\n",
    "    def lengthOfLastWord1(self, s: str) -> int:\n",
    "        split = s.split()\n",
    "        return len(split[-1]) if split else 0\n",
    "    \n",
    "    def lengthOfLastWord(self, s: str) -> int:\n",
    "        "
   ]
  },
  {
   "cell_type": "code",
   "execution_count": 60,
   "metadata": {},
   "outputs": [
    {
     "data": {
      "text/plain": [
       "3"
      ]
     },
     "execution_count": 60,
     "metadata": {},
     "output_type": "execute_result"
    }
   ],
   "source": [
    "Solution().lengthOfLastWord('qwe  ')"
   ]
  },
  {
   "cell_type": "code",
   "execution_count": 61,
   "metadata": {},
   "outputs": [
    {
     "data": {
      "text/plain": [
       "[]"
      ]
     },
     "execution_count": 61,
     "metadata": {},
     "output_type": "execute_result"
    }
   ],
   "source": [
    "' '.split()"
   ]
  },
  {
   "cell_type": "markdown",
   "metadata": {},
   "source": [
    "**66. Plus one**\n",
    "\n",
    "Given a non-empty array of digits representing a non-negative integer, plus one to the integer.\n",
    "\n",
    "The digits are stored such that the most significant digit is at the head of the list, and each element in the array contain a single digit.\n",
    "\n",
    "You may assume the integer does not contain any leading zero, except the number 0 itself.\n",
    "\n",
    "Example 1:\n",
    "\n",
    "Input: [1,2,3]\n",
    "Output: [1,2,4]\n",
    "Explanation: The array represents the integer 123.\n",
    "Example 2:\n",
    "\n",
    "Input: [4,3,2,1]\n",
    "Output: [4,3,2,2]\n",
    "Explanation: The array represents the integer 4321.\n"
   ]
  },
  {
   "cell_type": "code",
   "execution_count": 62,
   "metadata": {},
   "outputs": [],
   "source": [
    "class Solution:\n",
    "    def plusOne(self, digits: List[int]) -> List[int]:\n",
    "        return reduce(lambda x, y: (y[0], x[1] + y[1] * 10 ** y[0]), enumerate(digits[::-1]), (0,-1))[1]"
   ]
  },
  {
   "cell_type": "code",
   "execution_count": 63,
   "metadata": {},
   "outputs": [],
   "source": [
    "from functools import reduce"
   ]
  },
  {
   "cell_type": "code",
   "execution_count": 67,
   "metadata": {},
   "outputs": [
    {
     "data": {
      "text/plain": [
       "12379"
      ]
     },
     "execution_count": 67,
     "metadata": {},
     "output_type": "execute_result"
    }
   ],
   "source": [
    "Solution().plusOne([1, 2, 3, 8, 0])"
   ]
  },
  {
   "cell_type": "code",
   "execution_count": 93,
   "metadata": {},
   "outputs": [],
   "source": [
    "class Solution:\n",
    "    def plusOne(self, digits: List[int]) -> List[int]:\n",
    "        digits[-1] += 1\n",
    "        if digits[-1] == 10:\n",
    "            digits[-1] = 0\n",
    "            for i, num in enumerate(digits[-2::-1]):\n",
    "                if num == 9:\n",
    "                    digits[-i - 2] = 0\n",
    "                else:\n",
    "                    digits[-i - 2] += 1\n",
    "                    break\n",
    "            else:\n",
    "                digits.insert(0, 1)\n",
    "        return digits"
   ]
  },
  {
   "cell_type": "code",
   "execution_count": 96,
   "metadata": {},
   "outputs": [
    {
     "name": "stdout",
     "output_type": "stream",
     "text": [
      "[9, 9]\n",
      "0 9\n",
      "1 9\n"
     ]
    },
    {
     "data": {
      "text/plain": [
       "[1, 0, 0, 0]"
      ]
     },
     "execution_count": 96,
     "metadata": {},
     "output_type": "execute_result"
    }
   ],
   "source": [
    "Solution().plusOne([9, 9, 9])"
   ]
  },
  {
   "cell_type": "code",
   "execution_count": null,
   "metadata": {},
   "outputs": [],
   "source": []
  },
  {
   "cell_type": "code",
   "execution_count": null,
   "metadata": {},
   "outputs": [],
   "source": []
  }
 ],
 "metadata": {
  "kernelspec": {
   "display_name": "Python 3",
   "language": "python",
   "name": "python3"
  },
  "language_info": {
   "codemirror_mode": {
    "name": "ipython",
    "version": 3
   },
   "file_extension": ".py",
   "mimetype": "text/x-python",
   "name": "python",
   "nbconvert_exporter": "python",
   "pygments_lexer": "ipython3",
   "version": "3.7.5"
  }
 },
 "nbformat": 4,
 "nbformat_minor": 2
}
